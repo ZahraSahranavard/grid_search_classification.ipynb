{
 "cells": [
  {
   "cell_type": "code",
   "execution_count": null,
   "metadata": {
    "id": "AU_WB26egvxn"
   },
   "outputs": [],
   "source": [
    "from sklearn.datasets import make_classification"
   ]
  },
  {
   "cell_type": "markdown",
   "metadata": {
    "id": "sgvhyVm3g7_h"
   },
   "source": [
    "# dataset creation"
   ]
  },
  {
   "cell_type": "code",
   "execution_count": null,
   "metadata": {
    "id": "OINezc1nhDy6"
   },
   "outputs": [],
   "source": [
    "x, y = make_classification(n_samples=1000, n_features=20, n_informative=10, n_redundant=5, random_state=0, n_classes=2)"
   ]
  },
  {
   "cell_type": "code",
   "execution_count": null,
   "metadata": {
    "id": "tttK3PZBhTJf"
   },
   "outputs": [],
   "source": [
    "x[0]"
   ]
  },
  {
   "cell_type": "code",
   "execution_count": null,
   "metadata": {
    "id": "3bBi_xKphwUo"
   },
   "outputs": [],
   "source": [
    "y[0]"
   ]
  },
  {
   "cell_type": "code",
   "execution_count": null,
   "metadata": {
    "id": "pA7LDMPVhyxU"
   },
   "outputs": [],
   "source": [
    "x.shape , y.shape"
   ]
  },
  {
   "cell_type": "code",
   "execution_count": null,
   "metadata": {
    "id": "7Sy6rAYWh_bz"
   },
   "outputs": [],
   "source": [
    "from sklearn.model_selection import train_test_split"
   ]
  },
  {
   "cell_type": "code",
   "execution_count": null,
   "metadata": {
    "id": "Lwd7J6CBiIzC"
   },
   "outputs": [],
   "source": [
    "x_train, x_test, y_train, y_test = train_test_split(x, y, test_size=0.2)\n",
    "\n"
   ]
  },
  {
   "cell_type": "code",
   "execution_count": null,
   "metadata": {
    "id": "aPl1fw-yl0Ek"
   },
   "outputs": [],
   "source": [
    "x_train.shape, y_train.shape"
   ]
  },
  {
   "cell_type": "code",
   "execution_count": null,
   "metadata": {
    "id": "sWphE3Bnl5hG"
   },
   "outputs": [],
   "source": [
    "x_test.shape, y_test.shape"
   ]
  },
  {
   "cell_type": "markdown",
   "metadata": {
    "id": "NeRpymAUmDjU"
   },
   "source": [
    "# model definition"
   ]
  },
  {
   "cell_type": "code",
   "execution_count": null,
   "metadata": {
    "colab": {
     "background_save": true
    },
    "id": "dtvrfS3emAMm"
   },
   "outputs": [],
   "source": [
    "import tensorflow as tf\n",
    "from tensorflow import keras"
   ]
  },
  {
   "cell_type": "code",
   "execution_count": null,
   "metadata": {
    "colab": {
     "background_save": true
    },
    "id": "JNd5Q-UXmJH-"
   },
   "outputs": [],
   "source": [
    "def creat_model(hidden_units=32, optimizer='adam'):\n",
    "  model = keras.Sequential()\n",
    "  model.add(keras.Input(shape=(20,)))\n",
    "  model.add(keras.layers.Dense(units=hidden_units, activation='relu'))\n",
    "  model.add(keras.layers.Dense(units=hidden_units, activation='relu'))\n",
    "  model.add(keras.layers.Dense(units=1, activation='sigmoid'))\n",
    "\n",
    "  model.compile(optimizer=optimizer, loss=tf.losses.binary_crossentropy, metrics=['accuracy'])\n",
    "\n",
    "  return model"
   ]
  },
  {
   "cell_type": "markdown",
   "metadata": {
    "id": "ISjMHe7Tm9ck"
   },
   "source": [
    "# Grid Search"
   ]
  },
  {
   "cell_type": "code",
   "execution_count": null,
   "metadata": {
    "colab": {
     "background_save": true
    },
    "id": "XBTa-gfhm7DK"
   },
   "outputs": [],
   "source": [
    "from sklearn.model_selection import GridSearchCV"
   ]
  },
  {
   "cell_type": "code",
   "execution_count": null,
   "metadata": {
    "colab": {
     "background_save": true
    },
    "id": "XZhwoK3DnJyj"
   },
   "outputs": [],
   "source": [
    "!pip install scikeras"
   ]
  },
  {
   "cell_type": "code",
   "execution_count": null,
   "metadata": {
    "colab": {
     "background_save": true
    },
    "id": "C_8gjKTInQU9"
   },
   "outputs": [],
   "source": [
    "from scikeras.wrappers import KerasClassifier"
   ]
  },
  {
   "cell_type": "code",
   "execution_count": null,
   "metadata": {
    "colab": {
     "background_save": true
    },
    "id": "w4LFRMRXncsu"
   },
   "outputs": [],
   "source": [
    "model = KerasClassifier(model=creat_model, loss='binary_crossentropy', epochs=100, batch_size=64 , verbose=0)"
   ]
  },
  {
   "cell_type": "code",
   "execution_count": null,
   "metadata": {
    "colab": {
     "background_save": true
    },
    "id": "BJhXAzkxoTFT"
   },
   "outputs": [],
   "source": [
    "params = {\n",
    "    'model__hidden_units':[16, 32, 64, 128],\n",
    "    'model__optimizer':['adam', 'rmsprop']\n",
    "}"
   ]
  },
  {
   "cell_type": "code",
   "execution_count": null,
   "metadata": {
    "colab": {
     "background_save": true
    },
    "id": "bBxkIGj1oupo"
   },
   "outputs": [],
   "source": [
    "grid = GridSearchCV(estimator=model, param_grid=params, cv=4)\n",
    "grid_result = grid.fit(x_train, y_train)"
   ]
  },
  {
   "cell_type": "code",
   "execution_count": null,
   "metadata": {
    "colab": {
     "background_save": true
    },
    "id": "JlAOnPG9q3Ia"
   },
   "outputs": [],
   "source": [
    "best_params = grid_result.best_params_\n",
    "best_params"
   ]
  },
  {
   "cell_type": "code",
   "execution_count": null,
   "metadata": {
    "colab": {
     "background_save": true
    },
    "id": "IPb3PmFjpqk0"
   },
   "outputs": [],
   "source": [
    "best_score = grid_result.best_score_\n",
    "best_score"
   ]
  },
  {
   "cell_type": "markdown",
   "metadata": {
    "id": "fP8GKaNfxk7K"
   },
   "source": []
  }
 ],
 "metadata": {
  "colab": {
   "provenance": []
  },
  "kernelspec": {
   "display_name": "Python 3",
   "name": "python3"
  },
  "language_info": {
   "name": "python"
  }
 },
 "nbformat": 4,
 "nbformat_minor": 0
}
